{
  "cells": [
    {
      "cell_type": "markdown",
      "id": "12f3efa4-10a2-42b3-b356-965e0e127f9d",
      "metadata": {
        "id": "12f3efa4-10a2-42b3-b356-965e0e127f9d"
      },
      "source": [
        "# Grammys Project\n",
        "This project analyzes real-world web analytics data from both websites owned by The Recording Academy, the non-profit organization behind the Grammy Awards. Following a strategic decision to split the websites into grammy.com and recordingacademy.com, the goal is to assess the impact of this separation on user engagement, traffic trends, and audience behavior.\n",
        "\n",
        "The analysis focuses on identifying patterns in key performance indicators (KPIs), including pages per session, session duration, and bounce rate, as well as understanding demographic differences across the two domains. Insights from this project aim to inform recommendations for optimizing website structure and content to better serve distinct audience segments.\n"
      ]
    },
    {
      "cell_type": "markdown",
      "id": "86056f4b-570c-42de-ad6f-15a77778d3e2",
      "metadata": {
        "id": "86056f4b-570c-42de-ad6f-15a77778d3e2"
      },
      "source": [
        "## Data Dictionary\n",
        "I will be working with two files, `grammys_live_web_analytics.csv` and `ra_live_web_analytics.csv`.\n",
        "\n",
        "These files will contain the following information:\n",
        "\n",
        "- **date** - The date the data was confirmed. It is in `yyyy-mm-dd` format.\n",
        "- **visitors** - The number of users who went on the website on that day.\n",
        "- **pageviews** - The number of pages that all users viewed on the website.\n",
        "- **sessions** - The total number of sessions on the website. A session is a group of user interactions with your website that take place within a given time frame. For example a single session can contain multiple page views, events, social interactions.\n",
        "- **bounced_sessions** - The total number of bounced sessions on the website. A bounced session is when a visitor comes to the website and does not interact with any pages / links and leaves.\n",
        "- **avg_session_duration_secs** - The average length for all session durations for all users that came to the website that day.\n",
        "- **awards_week** - A binary flag if the dates align with marketing campaigns before and after the Grammys award ceremony was held. This is the big marketing push to get as many eyeballs watching the event.\n",
        "- **awards_night** - The actual night that Grammy Awards event was held."
      ]
    },
    {
      "cell_type": "markdown",
      "id": "92b01feb-c20a-4935-899a-822fbf5ef660",
      "metadata": {
        "id": "92b01feb-c20a-4935-899a-822fbf5ef660"
      },
      "source": [
        "# Part I - Exploratory Data Analysis\n",
        "\n"
      ]
    },
    {
      "cell_type": "markdown",
      "id": "3835f641-1f44-40af-9dbd-75b0c0eaa6a2",
      "metadata": {
        "id": "3835f641-1f44-40af-9dbd-75b0c0eaa6a2"
      },
      "source": [
        "## Task 1\n",
        "\n",
        "Import the `pandas`,`numpy`, and `plotly.express` libraries."
      ]
    },
    {
      "cell_type": "code",
      "execution_count": null,
      "id": "3ed580bf-0849-4bb2-8dad-5c17dc01fbc4",
      "metadata": {
        "id": "3ed580bf-0849-4bb2-8dad-5c17dc01fbc4"
      },
      "outputs": [],
      "source": [
        "# Import libraries\n",
        "import pandas as pd\n",
        "import numpy as np\n",
        "import plotly.express as px"
      ]
    },
    {
      "cell_type": "code",
      "execution_count": null,
      "id": "088bd14a-49d0-4214-85de-d39e14595e0d",
      "metadata": {
        "id": "088bd14a-49d0-4214-85de-d39e14595e0d"
      },
      "outputs": [],
      "source": [
        "# format numbers to two decimal places when shown in pandas\n",
        "pd.set_option('display.float_format', lambda x: '%.2f' % x)"
      ]
    },
    {
      "cell_type": "markdown",
      "id": "5e1e40b1-dfd3-4d23-9c73-89b05fddfb0b",
      "metadata": {
        "id": "5e1e40b1-dfd3-4d23-9c73-89b05fddfb0b"
      },
      "source": [
        "## Task 2\n",
        "\n",
        "Load in and preview files."
      ]
    },
    {
      "cell_type": "code",
      "execution_count": null,
      "id": "ce262f0e-c06d-4309-a8e5-72abc8b3cb0d",
      "metadata": {
        "id": "ce262f0e-c06d-4309-a8e5-72abc8b3cb0d",
        "colab": {
          "base_uri": "https://localhost:8080/",
          "height": 173
        },
        "outputId": "78eeb9e6-35a8-4b5c-cd73-b369383ddf57"
      },
      "outputs": [
        {
          "output_type": "error",
          "ename": "NameError",
          "evalue": "name 'pd' is not defined",
          "traceback": [
            "\u001b[0;31m---------------------------------------------------------------------------\u001b[0m",
            "\u001b[0;31mNameError\u001b[0m                                 Traceback (most recent call last)",
            "\u001b[0;32m/tmp/ipython-input-1801332277.py\u001b[0m in \u001b[0;36m<cell line: 0>\u001b[0;34m()\u001b[0m\n\u001b[1;32m      1\u001b[0m \u001b[0;31m# Read in dataframes\u001b[0m\u001b[0;34m\u001b[0m\u001b[0;34m\u001b[0m\u001b[0m\n\u001b[0;32m----> 2\u001b[0;31m \u001b[0mfull_df\u001b[0m \u001b[0;34m=\u001b[0m \u001b[0mpd\u001b[0m\u001b[0;34m.\u001b[0m\u001b[0mread_csv\u001b[0m\u001b[0;34m(\u001b[0m\u001b[0;34m'/content/grammy_live_web_analytics.csv'\u001b[0m\u001b[0;34m)\u001b[0m\u001b[0;34m\u001b[0m\u001b[0;34m\u001b[0m\u001b[0m\n\u001b[0m\u001b[1;32m      3\u001b[0m \u001b[0mrec_academy\u001b[0m \u001b[0;34m=\u001b[0m \u001b[0mpd\u001b[0m\u001b[0;34m.\u001b[0m\u001b[0mread_csv\u001b[0m\u001b[0;34m(\u001b[0m\u001b[0;34m'/content/ra_live_web_analytics.csv'\u001b[0m\u001b[0;34m)\u001b[0m\u001b[0;34m\u001b[0m\u001b[0;34m\u001b[0m\u001b[0m\n",
            "\u001b[0;31mNameError\u001b[0m: name 'pd' is not defined"
          ]
        }
      ],
      "source": [
        "# Read in dataframes\n",
        "full_df = pd.read_csv('/content/grammy_live_web_analytics.csv')\n",
        "rec_academy = pd.read_csv('/content/ra_live_web_analytics.csv')"
      ]
    },
    {
      "cell_type": "code",
      "execution_count": null,
      "id": "b78a2c3b-dfbf-4ae8-8e3b-e4e4bdea277a",
      "metadata": {
        "id": "b78a2c3b-dfbf-4ae8-8e3b-e4e4bdea277a"
      },
      "outputs": [],
      "source": [
        "# preview full_df dataframe\n",
        "full_df.head()"
      ]
    },
    {
      "cell_type": "code",
      "execution_count": null,
      "id": "d02f2345-70e5-4c0c-a1c3-33f0dc039ef8",
      "metadata": {
        "id": "d02f2345-70e5-4c0c-a1c3-33f0dc039ef8"
      },
      "outputs": [],
      "source": [
        "# preview rec_academy dataframe\n",
        "rec_academy.head()"
      ]
    },
    {
      "cell_type": "markdown",
      "id": "06c3527e-d874-4926-8860-eb312b6ccebd",
      "metadata": {
        "id": "06c3527e-d874-4926-8860-eb312b6ccebd"
      },
      "source": [
        "## Task 3\n",
        "\n",
        "Create a line chart of the number of users on the site for every day in the `full_df`."
      ]
    },
    {
      "cell_type": "code",
      "execution_count": null,
      "id": "bb3aa065-8625-4348-91cb-24d47af650ed",
      "metadata": {
        "id": "bb3aa065-8625-4348-91cb-24d47af650ed"
      },
      "outputs": [],
      "source": [
        "# Plot a line chart of the visitors on the site.\n",
        "px.line(full_df,\n",
        "       x = 'date',\n",
        "       y = 'visitors')"
      ]
    },
    {
      "cell_type": "markdown",
      "id": "2244f9c2-9246-4866-b4a1-05b445213443",
      "metadata": {
        "id": "2244f9c2-9246-4866-b4a1-05b445213443"
      },
      "source": [
        "**Observation**"
      ]
    },
    {
      "cell_type": "markdown",
      "id": "8762ad95-74c1-4ae5-bd81-558cb62e8508",
      "metadata": {
        "id": "8762ad95-74c1-4ae5-bd81-558cb62e8508"
      },
      "source": [
        "\n",
        "Website traffic on grammy.com peaks on the days of the Grammy Awards ceremony and during nominee announcement periods, indicating that these events drive the highest levels of user engagement."
      ]
    },
    {
      "cell_type": "markdown",
      "id": "2befdcf2-c1cd-476e-a72d-4927a0115937",
      "metadata": {
        "id": "2befdcf2-c1cd-476e-a72d-4927a0115937"
      },
      "source": [
        "## Task 4\n",
        "\n",
        "Investigate what an \"average\" day looks like when the awards show is being hosted versus the other 364 days out of the year.\n"
      ]
    },
    {
      "cell_type": "code",
      "execution_count": null,
      "id": "9ac62ffc-619b-4266-a8a7-009c3446a3de",
      "metadata": {
        "id": "9ac62ffc-619b-4266-a8a7-009c3446a3de"
      },
      "outputs": [],
      "source": [
        "full_df.groupby('awards_night').agg({'visitors': 'mean'})"
      ]
    },
    {
      "cell_type": "markdown",
      "id": "5323f524-aeb1-4c41-8bd3-82cccce4ae48",
      "metadata": {
        "id": "5323f524-aeb1-4c41-8bd3-82cccce4ae48"
      },
      "source": [
        "**Observation**"
      ]
    },
    {
      "cell_type": "markdown",
      "id": "5eb6f59d-38e7-4ffd-8b1a-b355ca56759f",
      "metadata": {
        "id": "5eb6f59d-38e7-4ffd-8b1a-b355ca56759f"
      },
      "source": [
        "On average, the grammy.com website receives 1,389,590 visitors on ceremony days, whereas regular days see only 32,388 visitors. Ceremony days therefore attract over 42 times the traffic of a typical day, highlighting the enormous spike in engagement during these events.\n",
        "This illustrates a key challenge for The Recording Academy: converting a platform that peaks around a single annual event into one that maintains consistent user engagement throughout the year.\n"
      ]
    },
    {
      "cell_type": "markdown",
      "id": "e90ca3b1-6397-426f-a301-f0089de9ffcf",
      "metadata": {
        "id": "e90ca3b1-6397-426f-a301-f0089de9ffcf"
      },
      "source": [
        "## Task 5\n",
        "\n",
        "When The Recording Academy decided to split their website into two domains, grammy.com and recordingacademy.com, the data capture for grammy.com was not affected. So the `full_df` variable needs to be split separately into two dataframes. The day the domains were switched is on `2022-02-01`.\n",
        "\n",
        "Create two new dataframes:\n",
        "\n",
        "1. `combined_site` for all dates before `2022-02-01`\n",
        "2. `grammys` for all dates after (and including) `2022-02-01`"
      ]
    },
    {
      "cell_type": "code",
      "execution_count": null,
      "id": "dbc7619e-185f-4102-b401-14743d043600",
      "metadata": {
        "id": "dbc7619e-185f-4102-b401-14743d043600"
      },
      "outputs": [],
      "source": [
        "# Split the data to separate the full_df into two new dataframes.\n",
        "# One for before the switch of the websites and one for after\n",
        "combined_site = full_df[full_df['date'] < '2022-02-01']\n",
        "grammys = full_df[full_df['date'] >= '2022-02-01']\n"
      ]
    },
    {
      "cell_type": "code",
      "execution_count": null,
      "id": "4f61c2af-7200-4607-ad33-3e89e22fc464",
      "metadata": {
        "id": "4f61c2af-7200-4607-ad33-3e89e22fc464"
      },
      "outputs": [],
      "source": [
        "# Return a copy of the dataframes.\n",
        "combined_site = combined_site.copy()\n",
        "grammys = grammys.copy()"
      ]
    },
    {
      "cell_type": "code",
      "execution_count": null,
      "id": "530fc485-5000-457b-9154-f085f9b1d245",
      "metadata": {
        "id": "530fc485-5000-457b-9154-f085f9b1d245"
      },
      "outputs": [],
      "source": [
        "# print the shape of the combined_site dataframe\n",
        "combined_site.shape"
      ]
    },
    {
      "cell_type": "markdown",
      "id": "4cc52580-acad-4b1d-8a4e-ff845821fbcb",
      "metadata": {
        "id": "4cc52580-acad-4b1d-8a4e-ff845821fbcb"
      },
      "source": [
        "# Part II - Investigate KPIs\n",
        "\n",
        "\n",
        "\n",
        "\n"
      ]
    },
    {
      "cell_type": "markdown",
      "id": "be7e8767-51ac-446b-84e3-834d411b55b3",
      "metadata": {
        "id": "be7e8767-51ac-446b-84e3-834d411b55b3"
      },
      "source": [
        "## Task 6\n",
        "\n",
        "**A.** Create a new list called `frames` that has the `combined_site`, `rec_academy`, and `grammys` dataframes as entries."
      ]
    },
    {
      "cell_type": "code",
      "execution_count": null,
      "id": "911a11c4-afb9-4563-a1f4-e93bfcfbd6af",
      "metadata": {
        "id": "911a11c4-afb9-4563-a1f4-e93bfcfbd6af"
      },
      "outputs": [],
      "source": [
        "# create the list of dataframes\n",
        "combined_site.name = 'Combined Site'\n",
        "rec_academy.name = 'Recording Academy'\n",
        "grammys.name = 'Grammys'\n",
        "frames = [combined_site, rec_academy, grammys]"
      ]
    },
    {
      "cell_type": "markdown",
      "id": "2285e4e0-3e25-41e5-ab68-766e02dd66da",
      "metadata": {
        "id": "2285e4e0-3e25-41e5-ab68-766e02dd66da"
      },
      "source": [
        "**B.** For each frame in the frames list, create a new column `pages_per_session`. This new column is the average number of pageviews per session on a given day.\n"
      ]
    },
    {
      "cell_type": "code",
      "execution_count": null,
      "id": "d4f32b1c-02e4-42c8-820c-3228bc8ee62e",
      "metadata": {
        "id": "d4f32b1c-02e4-42c8-820c-3228bc8ee62e"
      },
      "outputs": [],
      "source": [
        "# create the `pages_per_session` column for all 3 dataframes.\n",
        "for frame in frames:\n",
        "    frame['pages_per_session'] = frame['pageviews'] / frame['sessions']"
      ]
    },
    {
      "cell_type": "markdown",
      "id": "3737311f-a8e9-4622-8e3d-e95cd214f1ae",
      "metadata": {
        "id": "3737311f-a8e9-4622-8e3d-e95cd214f1ae"
      },
      "source": [
        "**C.** Visualize this new metric using a line chart for each site."
      ]
    },
    {
      "cell_type": "code",
      "execution_count": null,
      "id": "b56b75ec-376f-438f-96fd-acdd08c8f2c6",
      "metadata": {
        "id": "b56b75ec-376f-438f-96fd-acdd08c8f2c6"
      },
      "outputs": [],
      "source": [
        "# combined_site graph\n",
        "px.line(combined_site,\n",
        "       x = 'date',\n",
        "       y = 'pages_per_session',\n",
        "       title = 'Pages per Session for Combined Site')"
      ]
    },
    {
      "cell_type": "code",
      "execution_count": null,
      "id": "e1473fa4-0d40-4019-8113-48ddd5e6d1ac",
      "metadata": {
        "id": "e1473fa4-0d40-4019-8113-48ddd5e6d1ac"
      },
      "outputs": [],
      "source": [
        "# grammys graph\n",
        "px.line(grammys,\n",
        "       x = 'date',\n",
        "       y = 'pages_per_session',\n",
        "       title = 'Pages per Session for Grammys Site')"
      ]
    },
    {
      "cell_type": "code",
      "execution_count": null,
      "id": "5a786c18-6127-4454-b947-25b6fab5f547",
      "metadata": {
        "id": "5a786c18-6127-4454-b947-25b6fab5f547"
      },
      "outputs": [],
      "source": [
        "# rec_academy graph\n",
        "px.line(rec_academy,\n",
        "       x = 'date',\n",
        "       y = 'pages_per_session',\n",
        "       title = 'Pages per Session for Recording Academy Site')"
      ]
    },
    {
      "cell_type": "markdown",
      "id": "8200e739-e786-4c70-940f-d1dfe9d8943a",
      "metadata": {
        "id": "8200e739-e786-4c70-940f-d1dfe9d8943a"
      },
      "source": [
        "**Observation**"
      ]
    },
    {
      "cell_type": "markdown",
      "id": "20f58c99-9693-4572-a4eb-b1169c12fc37",
      "metadata": {
        "id": "20f58c99-9693-4572-a4eb-b1169c12fc37"
      },
      "source": [
        "After the websites were split, the average pages per session nearly doubled. The combined site recorded approximately 1 page per session on average, whereas each individual site, grammy.com and recordingacademy.com, recorded between 2 and 3 pages per session. This indicates that users are engaging more deeply with content when the sites are separated.\n",
        "\n",
        "Note: Any large spikes that do not correspond with the Grammy Awards ceremony are likely due to anomalies in data collection and have been excluded from this analysis.\n"
      ]
    },
    {
      "cell_type": "markdown",
      "id": "c0ae9f14-2d2f-480a-ac7c-dd6c12a31b46",
      "metadata": {
        "id": "c0ae9f14-2d2f-480a-ac7c-dd6c12a31b46",
        "tags": []
      },
      "source": [
        "## Task 7\n",
        "\n",
        "Create a function to calculate the bounce rate.\n",
        "\n"
      ]
    },
    {
      "cell_type": "code",
      "execution_count": null,
      "id": "e8980116-77bf-49ee-9010-9c18e12a47b2",
      "metadata": {
        "id": "e8980116-77bf-49ee-9010-9c18e12a47b2"
      },
      "outputs": [],
      "source": [
        "def bounce_rate(dataframe):\n",
        "    sum_bounced = dataframe['bounced_sessions'].sum()\n",
        "    sum_sessions = dataframe['sessions'].sum()\n",
        "    return 100 * sum_bounced / sum_sessions"
      ]
    },
    {
      "cell_type": "markdown",
      "id": "4146b771-07f2-49fe-b978-5937175fa262",
      "metadata": {
        "id": "4146b771-07f2-49fe-b978-5937175fa262"
      },
      "source": [
        "**B.** Loop over each website.\n",
        "\n",
        "\n"
      ]
    },
    {
      "cell_type": "code",
      "execution_count": null,
      "id": "4a7efc32-2243-4930-8511-2593976d6442",
      "metadata": {
        "id": "4a7efc32-2243-4930-8511-2593976d6442"
      },
      "outputs": [],
      "source": [
        "# Calculate the Bounce Rate for each site.\n",
        "for frame in frames:\n",
        "    rate = bounce_rate(frame)\n",
        "    print(f\"Bounce rate for {frame.name}: {rate:.2f}%\")"
      ]
    },
    {
      "cell_type": "markdown",
      "id": "be57916f-a0fb-477c-990e-622f9235c6e8",
      "metadata": {
        "id": "be57916f-a0fb-477c-990e-622f9235c6e8"
      },
      "source": [
        "**C.** Calculate how long on average visitors are staying on the website.\n",
        "\n"
      ]
    },
    {
      "cell_type": "code",
      "execution_count": null,
      "id": "cb9260e4-bad4-438e-8254-4e1a72dc6591",
      "metadata": {
        "id": "cb9260e4-bad4-438e-8254-4e1a72dc6591"
      },
      "outputs": [],
      "source": [
        "# Calculate the average of the avg_session_duration_secs.\n",
        "for frame in frames:\n",
        "    site_mean = frame['avg_session_duration_secs'].mean()\n",
        "    print(f\"Mean session duration for {frame.name}: {site_mean:.2f} seconds\")"
      ]
    },
    {
      "cell_type": "markdown",
      "id": "971e7fb6-1298-466e-b205-3499f6bae83c",
      "metadata": {
        "id": "971e7fb6-1298-466e-b205-3499f6bae83c"
      },
      "source": [
        "**Observation**\n",
        "\n",
        "The Recording Academy website demonstrates stronger performance overall, with the lowest bounce rate and longest average session duration. This suggests that visitors are highly engaged and spend more time exploring its content. In contrast, the Grammy website shows a shorter average session duration and a bounce rate similar to the combined site, indicating that its content may perform better when integrated within a broader platform."
      ]
    },
    {
      "cell_type": "markdown",
      "id": "13a8eba7-39af-4faa-934c-1b573e5d3e99",
      "metadata": {
        "id": "13a8eba7-39af-4faa-934c-1b573e5d3e99"
      },
      "source": [
        "# Part III - Demographics\n"
      ]
    },
    {
      "cell_type": "markdown",
      "id": "40d77680-0f37-4608-91cc-5e51d1d4075d",
      "metadata": {
        "id": "40d77680-0f37-4608-91cc-5e51d1d4075d"
      },
      "source": [
        "## Task 8\n",
        "\n",
        "The `grammys_age_demographics.csv` and `tra_age_demographics.csv` each contain the following information:\n",
        "\n",
        "- **age_group** - The age group range. e.g. `18-24` are all visitors between the ages of 18 to 24 who come to the site.\n",
        "- **pct_visitors** - The percentage of all of the websites visitors that come from that specific age group."
      ]
    },
    {
      "cell_type": "markdown",
      "id": "2ff99dd7-7f56-435a-96bf-f1b82efb055d",
      "metadata": {
        "id": "2ff99dd7-7f56-435a-96bf-f1b82efb055d"
      },
      "source": [
        "**A.** Read in the `grammys_age_demographics.csv` and `tra_age_demographics.csv` files and store them into dataframes named `age_grammys` and `age_tra`, respectively."
      ]
    },
    {
      "cell_type": "code",
      "execution_count": null,
      "id": "1431208f-dc36-4538-9dfe-fd3f6ac5c8dd",
      "metadata": {
        "id": "1431208f-dc36-4538-9dfe-fd3f6ac5c8dd"
      },
      "outputs": [],
      "source": [
        "# read in the files\n",
        "age_grammys = pd.read_csv('datasets/grammys_age_demographics.csv')\n",
        "age_tra = pd.read_csv('datasets/tra_age_demographics.csv')"
      ]
    },
    {
      "cell_type": "code",
      "execution_count": null,
      "id": "7a038ecc-a6d7-4e12-a043-c529f33d306f",
      "metadata": {
        "id": "7a038ecc-a6d7-4e12-a043-c529f33d306f"
      },
      "outputs": [],
      "source": [
        "# preview the age_grammys file.\n",
        "age_grammys.head()"
      ]
    },
    {
      "cell_type": "markdown",
      "id": "ec482406-c15c-415a-9c5e-ef692af59e48",
      "metadata": {
        "id": "ec482406-c15c-415a-9c5e-ef692af59e48"
      },
      "source": [
        "**B.** For each dataframe, create a new column called `website` whose value is the name of the website."
      ]
    },
    {
      "cell_type": "code",
      "execution_count": null,
      "id": "918be23c-bbb0-4c47-bcdb-4557cced2769",
      "metadata": {
        "id": "918be23c-bbb0-4c47-bcdb-4557cced2769"
      },
      "outputs": [],
      "source": [
        "# create the website column\n",
        "age_grammys['website'] = 'Grammys'\n",
        "age_tra['website'] = 'Recording Academy'"
      ]
    },
    {
      "cell_type": "markdown",
      "id": "5408a670-83d5-4a0f-a9cc-d1d4b8fcbd1f",
      "metadata": {
        "id": "5408a670-83d5-4a0f-a9cc-d1d4b8fcbd1f"
      },
      "source": [
        "**C.** Join these two datasets together.\n"
      ]
    },
    {
      "cell_type": "code",
      "execution_count": null,
      "id": "065781eb-1118-4782-9d0d-c6336403325b",
      "metadata": {
        "id": "065781eb-1118-4782-9d0d-c6336403325b"
      },
      "outputs": [],
      "source": [
        "# use pd.concat to join the two datasets\n",
        "age_df = pd.concat([age_grammys, age_tra])\n",
        "age_df.head()"
      ]
    },
    {
      "cell_type": "markdown",
      "id": "6501d45a-85b5-4ca3-b5e9-ed489f2fc56e",
      "metadata": {
        "id": "6501d45a-85b5-4ca3-b5e9-ed489f2fc56e"
      },
      "source": [
        "**D.** Create a bar chart of the `age_group` and `pct_visitors`.\n"
      ]
    },
    {
      "cell_type": "code",
      "execution_count": null,
      "id": "7c733966-b86f-4d84-adb1-c95e50a4b180",
      "metadata": {
        "id": "7c733966-b86f-4d84-adb1-c95e50a4b180"
      },
      "outputs": [],
      "source": [
        "# Create bar chart\n",
        "px.bar(age_df, x='age_group',\n",
        "       y='pct_visitors',\n",
        "       color='website',\n",
        "       barmode='group')"
      ]
    },
    {
      "cell_type": "markdown",
      "id": "5182dba4-302f-48a7-89df-561ccf83ebd3",
      "metadata": {
        "id": "5182dba4-302f-48a7-89df-561ccf83ebd3"
      },
      "source": [
        "**Observation**"
      ]
    },
    {
      "cell_type": "markdown",
      "id": "9c9fdc29-9266-4da6-a352-d7d48a4f872b",
      "metadata": {
        "id": "9c9fdc29-9266-4da6-a352-d7d48a4f872b"
      },
      "source": [
        "Both websites attract a similar distribution of visitors across age groups. However, the youngest and oldest audiences show a slight preference for the Grammy website, while middle-aged users are more likely to visit the Recording Academy website."
      ]
    },
    {
      "cell_type": "markdown",
      "id": "7465b0bb-b2e9-42a2-aca5-32cddd403263",
      "metadata": {
        "id": "7465b0bb-b2e9-42a2-aca5-32cddd403263",
        "tags": []
      },
      "source": [
        "# Part IV - Recommendation\n"
      ]
    },
    {
      "cell_type": "markdown",
      "id": "ca94b032-81eb-406f-9760-3c054914bcc7",
      "metadata": {
        "id": "ca94b032-81eb-406f-9760-3c054914bcc7",
        "jp-MarkdownHeadingCollapsed": true,
        "tags": []
      },
      "source": [
        "I recommend that grammy.com and recordingacademy.com remain as separate websites. The key performance indicators (KPIs) demonstrate that each site effectively serves a distinct audience segment. Following the split, both platforms recorded notable improvements in engagement metrics compared to when the sites were combined.\n",
        "\n",
        "The average number of pages per session increased from 1.0 on the unified site to 2–3 on each individual site, indicating that users are discovering more relevant and engaging content. Average session duration also improved: visitors to RecordingAcademy.com spent an average of 128.5 seconds per session, while Grammy.com visitors averaged 82.99 seconds, compared to 102.85 seconds on the combined site. These results suggest that the more focused content strategies are effectively sustaining user interest.\n",
        "\n",
        "The bounce rate showed further improvement, particularly for RecordingAcademy.com, which declined to 33.67% from the combined site’s 41.58%, signifying that visitors are finding desired information more efficiently. While audience age distribution remains generally consistent across both sites, younger and older users are more likely to engage with Grammy.com, whereas middle-aged visitors show a stronger preference for RecordingAcademy.com.\n",
        "   \n",
        "Overall, the enhanced engagement metrics and clear audience differentiation support maintaining the current dual-site structure. This approach ensures that both fan-oriented and industry-focused users receive content that aligns with their interests, thereby maximizing engagement and optimizing user experience.\n"
      ]
    }
  ],
  "metadata": {
    "colab": {
      "provenance": []
    },
    "kernelspec": {
      "display_name": "Python 3 (ipykernel)",
      "language": "python",
      "name": "python3"
    },
    "language_info": {
      "codemirror_mode": {
        "name": "ipython",
        "version": 3
      },
      "file_extension": ".py",
      "mimetype": "text/x-python",
      "name": "python",
      "nbconvert_exporter": "python",
      "pygments_lexer": "ipython3",
      "version": "3.10.6"
    }
  },
  "nbformat": 4,
  "nbformat_minor": 5
}